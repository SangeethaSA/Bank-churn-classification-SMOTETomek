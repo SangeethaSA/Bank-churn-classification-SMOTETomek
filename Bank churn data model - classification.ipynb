{
 "cells": [
  {
   "cell_type": "code",
   "execution_count": 1,
   "metadata": {},
   "outputs": [],
   "source": [
    "import pandas as pd\n",
    "import numpy as np\n",
    "import matplotlib.pyplot as plt  \n",
    "import seaborn as sns\n",
    "import warnings\n",
    "warnings.filterwarnings('ignore')"
   ]
  },
  {
   "cell_type": "code",
   "execution_count": 2,
   "metadata": {},
   "outputs": [
    {
     "data": {
      "text/html": [
       "<div>\n",
       "<style scoped>\n",
       "    .dataframe tbody tr th:only-of-type {\n",
       "        vertical-align: middle;\n",
       "    }\n",
       "\n",
       "    .dataframe tbody tr th {\n",
       "        vertical-align: top;\n",
       "    }\n",
       "\n",
       "    .dataframe thead th {\n",
       "        text-align: right;\n",
       "    }\n",
       "</style>\n",
       "<table border=\"1\" class=\"dataframe\">\n",
       "  <thead>\n",
       "    <tr style=\"text-align: right;\">\n",
       "      <th></th>\n",
       "      <th>RowNumber</th>\n",
       "      <th>CustomerId</th>\n",
       "      <th>Surname</th>\n",
       "      <th>CreditScore</th>\n",
       "      <th>Geography</th>\n",
       "      <th>Gender</th>\n",
       "      <th>Age</th>\n",
       "      <th>Tenure</th>\n",
       "      <th>Balance</th>\n",
       "      <th>NumOfProducts</th>\n",
       "      <th>HasCrCard</th>\n",
       "      <th>IsActiveMember</th>\n",
       "      <th>EstimatedSalary</th>\n",
       "      <th>Exited</th>\n",
       "    </tr>\n",
       "  </thead>\n",
       "  <tbody>\n",
       "    <tr>\n",
       "      <th>2609</th>\n",
       "      <td>2610</td>\n",
       "      <td>15755242</td>\n",
       "      <td>Rowe</td>\n",
       "      <td>682</td>\n",
       "      <td>France</td>\n",
       "      <td>Female</td>\n",
       "      <td>46</td>\n",
       "      <td>2</td>\n",
       "      <td>0.00</td>\n",
       "      <td>1</td>\n",
       "      <td>1</td>\n",
       "      <td>1</td>\n",
       "      <td>114442.66</td>\n",
       "      <td>0</td>\n",
       "    </tr>\n",
       "    <tr>\n",
       "      <th>1428</th>\n",
       "      <td>1429</td>\n",
       "      <td>15794560</td>\n",
       "      <td>Maclean</td>\n",
       "      <td>550</td>\n",
       "      <td>France</td>\n",
       "      <td>Male</td>\n",
       "      <td>57</td>\n",
       "      <td>5</td>\n",
       "      <td>0.00</td>\n",
       "      <td>1</td>\n",
       "      <td>1</td>\n",
       "      <td>1</td>\n",
       "      <td>133501.94</td>\n",
       "      <td>0</td>\n",
       "    </tr>\n",
       "    <tr>\n",
       "      <th>7044</th>\n",
       "      <td>7045</td>\n",
       "      <td>15738487</td>\n",
       "      <td>Leworthy</td>\n",
       "      <td>678</td>\n",
       "      <td>France</td>\n",
       "      <td>Male</td>\n",
       "      <td>26</td>\n",
       "      <td>3</td>\n",
       "      <td>0.00</td>\n",
       "      <td>2</td>\n",
       "      <td>1</td>\n",
       "      <td>0</td>\n",
       "      <td>4989.33</td>\n",
       "      <td>0</td>\n",
       "    </tr>\n",
       "    <tr>\n",
       "      <th>1353</th>\n",
       "      <td>1354</td>\n",
       "      <td>15623644</td>\n",
       "      <td>Frolov</td>\n",
       "      <td>626</td>\n",
       "      <td>Spain</td>\n",
       "      <td>Male</td>\n",
       "      <td>29</td>\n",
       "      <td>7</td>\n",
       "      <td>0.00</td>\n",
       "      <td>2</td>\n",
       "      <td>1</td>\n",
       "      <td>0</td>\n",
       "      <td>49361.84</td>\n",
       "      <td>0</td>\n",
       "    </tr>\n",
       "    <tr>\n",
       "      <th>7240</th>\n",
       "      <td>7241</td>\n",
       "      <td>15591552</td>\n",
       "      <td>Okonkwo</td>\n",
       "      <td>600</td>\n",
       "      <td>France</td>\n",
       "      <td>Female</td>\n",
       "      <td>32</td>\n",
       "      <td>7</td>\n",
       "      <td>98877.95</td>\n",
       "      <td>1</td>\n",
       "      <td>1</td>\n",
       "      <td>0</td>\n",
       "      <td>132973.21</td>\n",
       "      <td>0</td>\n",
       "    </tr>\n",
       "  </tbody>\n",
       "</table>\n",
       "</div>"
      ],
      "text/plain": [
       "      RowNumber  CustomerId   Surname  CreditScore Geography  Gender  Age  \\\n",
       "2609       2610    15755242      Rowe          682    France  Female   46   \n",
       "1428       1429    15794560   Maclean          550    France    Male   57   \n",
       "7044       7045    15738487  Leworthy          678    France    Male   26   \n",
       "1353       1354    15623644    Frolov          626     Spain    Male   29   \n",
       "7240       7241    15591552   Okonkwo          600    France  Female   32   \n",
       "\n",
       "      Tenure   Balance  NumOfProducts  HasCrCard  IsActiveMember  \\\n",
       "2609       2      0.00              1          1               1   \n",
       "1428       5      0.00              1          1               1   \n",
       "7044       3      0.00              2          1               0   \n",
       "1353       7      0.00              2          1               0   \n",
       "7240       7  98877.95              1          1               0   \n",
       "\n",
       "      EstimatedSalary  Exited  \n",
       "2609        114442.66       0  \n",
       "1428        133501.94       0  \n",
       "7044          4989.33       0  \n",
       "1353         49361.84       0  \n",
       "7240        132973.21       0  "
      ]
     },
     "execution_count": 2,
     "metadata": {},
     "output_type": "execute_result"
    }
   ],
   "source": [
    "dataset=pd.read_csv('Churn_Modelling.csv')\n",
    "dataset.sample(5)"
   ]
  },
  {
   "cell_type": "markdown",
   "metadata": {},
   "source": [
    "Bank Churn Data Model - Classification :\n",
    "The dataset consists of a randomly sampled population of a banking customers detailing demographics (independent variables) and whether a customer left (or stayed) the bank (dependent variable). "
   ]
  },
  {
   "cell_type": "code",
   "execution_count": 3,
   "metadata": {},
   "outputs": [
    {
     "name": "stdout",
     "output_type": "stream",
     "text": [
      "<class 'pandas.core.frame.DataFrame'>\n",
      "RangeIndex: 10000 entries, 0 to 9999\n",
      "Data columns (total 14 columns):\n",
      "RowNumber          10000 non-null int64\n",
      "CustomerId         10000 non-null int64\n",
      "Surname            10000 non-null object\n",
      "CreditScore        10000 non-null int64\n",
      "Geography          10000 non-null object\n",
      "Gender             10000 non-null object\n",
      "Age                10000 non-null int64\n",
      "Tenure             10000 non-null int64\n",
      "Balance            10000 non-null float64\n",
      "NumOfProducts      10000 non-null int64\n",
      "HasCrCard          10000 non-null int64\n",
      "IsActiveMember     10000 non-null int64\n",
      "EstimatedSalary    10000 non-null float64\n",
      "Exited             10000 non-null int64\n",
      "dtypes: float64(2), int64(9), object(3)\n",
      "memory usage: 1.1+ MB\n"
     ]
    }
   ],
   "source": [
    "dataset.info()"
   ]
  },
  {
   "cell_type": "code",
   "execution_count": 4,
   "metadata": {},
   "outputs": [
    {
     "data": {
      "text/plain": [
       "0"
      ]
     },
     "execution_count": 4,
     "metadata": {},
     "output_type": "execute_result"
    }
   ],
   "source": [
    "dataset.isnull().sum().sum()"
   ]
  },
  {
   "cell_type": "code",
   "execution_count": 5,
   "metadata": {},
   "outputs": [],
   "source": [
    "dataset.drop(['RowNumber','CustomerId','Surname'], axis=1, inplace=True)#deleted unwanted columns"
   ]
  },
  {
   "cell_type": "code",
   "execution_count": 6,
   "metadata": {},
   "outputs": [
    {
     "data": {
      "text/html": [
       "<div>\n",
       "<style scoped>\n",
       "    .dataframe tbody tr th:only-of-type {\n",
       "        vertical-align: middle;\n",
       "    }\n",
       "\n",
       "    .dataframe tbody tr th {\n",
       "        vertical-align: top;\n",
       "    }\n",
       "\n",
       "    .dataframe thead th {\n",
       "        text-align: right;\n",
       "    }\n",
       "</style>\n",
       "<table border=\"1\" class=\"dataframe\">\n",
       "  <thead>\n",
       "    <tr style=\"text-align: right;\">\n",
       "      <th></th>\n",
       "      <th>CreditScore</th>\n",
       "      <th>Geography</th>\n",
       "      <th>Gender</th>\n",
       "      <th>Age</th>\n",
       "      <th>Tenure</th>\n",
       "      <th>Balance</th>\n",
       "      <th>NumOfProducts</th>\n",
       "      <th>HasCrCard</th>\n",
       "      <th>IsActiveMember</th>\n",
       "      <th>EstimatedSalary</th>\n",
       "      <th>Exited</th>\n",
       "    </tr>\n",
       "  </thead>\n",
       "  <tbody>\n",
       "    <tr>\n",
       "      <th>0</th>\n",
       "      <td>619</td>\n",
       "      <td>France</td>\n",
       "      <td>Female</td>\n",
       "      <td>42</td>\n",
       "      <td>2</td>\n",
       "      <td>0.00</td>\n",
       "      <td>1</td>\n",
       "      <td>1</td>\n",
       "      <td>1</td>\n",
       "      <td>101348.88</td>\n",
       "      <td>1</td>\n",
       "    </tr>\n",
       "    <tr>\n",
       "      <th>1</th>\n",
       "      <td>608</td>\n",
       "      <td>Spain</td>\n",
       "      <td>Female</td>\n",
       "      <td>41</td>\n",
       "      <td>1</td>\n",
       "      <td>83807.86</td>\n",
       "      <td>1</td>\n",
       "      <td>0</td>\n",
       "      <td>1</td>\n",
       "      <td>112542.58</td>\n",
       "      <td>0</td>\n",
       "    </tr>\n",
       "    <tr>\n",
       "      <th>2</th>\n",
       "      <td>502</td>\n",
       "      <td>France</td>\n",
       "      <td>Female</td>\n",
       "      <td>42</td>\n",
       "      <td>8</td>\n",
       "      <td>159660.80</td>\n",
       "      <td>3</td>\n",
       "      <td>1</td>\n",
       "      <td>0</td>\n",
       "      <td>113931.57</td>\n",
       "      <td>1</td>\n",
       "    </tr>\n",
       "    <tr>\n",
       "      <th>3</th>\n",
       "      <td>699</td>\n",
       "      <td>France</td>\n",
       "      <td>Female</td>\n",
       "      <td>39</td>\n",
       "      <td>1</td>\n",
       "      <td>0.00</td>\n",
       "      <td>2</td>\n",
       "      <td>0</td>\n",
       "      <td>0</td>\n",
       "      <td>93826.63</td>\n",
       "      <td>0</td>\n",
       "    </tr>\n",
       "    <tr>\n",
       "      <th>4</th>\n",
       "      <td>850</td>\n",
       "      <td>Spain</td>\n",
       "      <td>Female</td>\n",
       "      <td>43</td>\n",
       "      <td>2</td>\n",
       "      <td>125510.82</td>\n",
       "      <td>1</td>\n",
       "      <td>1</td>\n",
       "      <td>1</td>\n",
       "      <td>79084.10</td>\n",
       "      <td>0</td>\n",
       "    </tr>\n",
       "  </tbody>\n",
       "</table>\n",
       "</div>"
      ],
      "text/plain": [
       "   CreditScore Geography  Gender  Age  Tenure    Balance  NumOfProducts  \\\n",
       "0          619    France  Female   42       2       0.00              1   \n",
       "1          608     Spain  Female   41       1   83807.86              1   \n",
       "2          502    France  Female   42       8  159660.80              3   \n",
       "3          699    France  Female   39       1       0.00              2   \n",
       "4          850     Spain  Female   43       2  125510.82              1   \n",
       "\n",
       "   HasCrCard  IsActiveMember  EstimatedSalary  Exited  \n",
       "0          1               1        101348.88       1  \n",
       "1          0               1        112542.58       0  \n",
       "2          1               0        113931.57       1  \n",
       "3          0               0         93826.63       0  \n",
       "4          1               1         79084.10       0  "
      ]
     },
     "execution_count": 6,
     "metadata": {},
     "output_type": "execute_result"
    }
   ],
   "source": [
    "dataset.head()"
   ]
  },
  {
   "cell_type": "code",
   "execution_count": 7,
   "metadata": {},
   "outputs": [
    {
     "data": {
      "text/plain": [
       "['France', 'Germany', 'Spain']"
      ]
     },
     "execution_count": 7,
     "metadata": {},
     "output_type": "execute_result"
    }
   ],
   "source": [
    "sorted(dataset.Geography.unique())"
   ]
  },
  {
   "cell_type": "markdown",
   "metadata": {},
   "source": [
    "# converting categorical data into numerical"
   ]
  },
  {
   "cell_type": "code",
   "execution_count": 8,
   "metadata": {},
   "outputs": [],
   "source": [
    "\n",
    "from sklearn.preprocessing import LabelEncoder, OneHotEncoder\n",
    "#Categorical boolean mask\n",
    "categorical_feature_mask = dataset.dtypes=='object'\n",
    "#filter categorical columns using mask and turn it into a list\n",
    "categorical_cols = dataset.columns[categorical_feature_mask].tolist()"
   ]
  },
  {
   "cell_type": "code",
   "execution_count": 9,
   "metadata": {},
   "outputs": [
    {
     "data": {
      "text/html": [
       "<div>\n",
       "<style scoped>\n",
       "    .dataframe tbody tr th:only-of-type {\n",
       "        vertical-align: middle;\n",
       "    }\n",
       "\n",
       "    .dataframe tbody tr th {\n",
       "        vertical-align: top;\n",
       "    }\n",
       "\n",
       "    .dataframe thead th {\n",
       "        text-align: right;\n",
       "    }\n",
       "</style>\n",
       "<table border=\"1\" class=\"dataframe\">\n",
       "  <thead>\n",
       "    <tr style=\"text-align: right;\">\n",
       "      <th></th>\n",
       "      <th>Geography</th>\n",
       "      <th>Gender</th>\n",
       "    </tr>\n",
       "  </thead>\n",
       "  <tbody>\n",
       "    <tr>\n",
       "      <th>7649</th>\n",
       "      <td>0</td>\n",
       "      <td>0</td>\n",
       "    </tr>\n",
       "    <tr>\n",
       "      <th>7387</th>\n",
       "      <td>0</td>\n",
       "      <td>1</td>\n",
       "    </tr>\n",
       "    <tr>\n",
       "      <th>6320</th>\n",
       "      <td>2</td>\n",
       "      <td>1</td>\n",
       "    </tr>\n",
       "    <tr>\n",
       "      <th>9726</th>\n",
       "      <td>2</td>\n",
       "      <td>1</td>\n",
       "    </tr>\n",
       "    <tr>\n",
       "      <th>7473</th>\n",
       "      <td>2</td>\n",
       "      <td>1</td>\n",
       "    </tr>\n",
       "  </tbody>\n",
       "</table>\n",
       "</div>"
      ],
      "text/plain": [
       "      Geography  Gender\n",
       "7649          0       0\n",
       "7387          0       1\n",
       "6320          2       1\n",
       "9726          2       1\n",
       "7473          2       1"
      ]
     },
     "execution_count": 9,
     "metadata": {},
     "output_type": "execute_result"
    }
   ],
   "source": [
    "# instantiate labelencoder object\n",
    "le = LabelEncoder()\n",
    "# apply le on categorical feature columns\n",
    "dataset[categorical_cols] = dataset[categorical_cols].apply(lambda col: le.fit_transform(col))\n",
    "dataset[categorical_cols].sample(5)"
   ]
  },
  {
   "cell_type": "code",
   "execution_count": 10,
   "metadata": {},
   "outputs": [],
   "source": [
    "# instantiate OneHotEncoder\n",
    "ohe = OneHotEncoder(categorical_features = categorical_feature_mask, sparse=False ) \n",
    "#categorical_features = boolean mask for categorical columns\n",
    "#sparse = False output an array not sparse matrix"
   ]
  },
  {
   "cell_type": "code",
   "execution_count": 11,
   "metadata": {},
   "outputs": [
    {
     "name": "stderr",
     "output_type": "stream",
     "text": [
      "D:\\anaconda\\lib\\site-packages\\sklearn\\preprocessing\\_encoders.py:451: DeprecationWarning: The 'categorical_features' keyword is deprecated in version 0.20 and will be removed in 0.22. You can use the ColumnTransformer instead.\n",
      "  \"use the ColumnTransformer instead.\", DeprecationWarning)\n"
     ]
    },
    {
     "data": {
      "text/html": [
       "<div>\n",
       "<style scoped>\n",
       "    .dataframe tbody tr th:only-of-type {\n",
       "        vertical-align: middle;\n",
       "    }\n",
       "\n",
       "    .dataframe tbody tr th {\n",
       "        vertical-align: top;\n",
       "    }\n",
       "\n",
       "    .dataframe thead th {\n",
       "        text-align: right;\n",
       "    }\n",
       "</style>\n",
       "<table border=\"1\" class=\"dataframe\">\n",
       "  <thead>\n",
       "    <tr style=\"text-align: right;\">\n",
       "      <th></th>\n",
       "      <th>CreditScore</th>\n",
       "      <th>Geography</th>\n",
       "      <th>Gender</th>\n",
       "      <th>Age</th>\n",
       "      <th>Tenure</th>\n",
       "      <th>Balance</th>\n",
       "      <th>NumOfProducts</th>\n",
       "      <th>HasCrCard</th>\n",
       "      <th>IsActiveMember</th>\n",
       "      <th>EstimatedSalary</th>\n",
       "      <th>Exited</th>\n",
       "    </tr>\n",
       "  </thead>\n",
       "  <tbody>\n",
       "    <tr>\n",
       "      <th>2109</th>\n",
       "      <td>596</td>\n",
       "      <td>2</td>\n",
       "      <td>1</td>\n",
       "      <td>41</td>\n",
       "      <td>5</td>\n",
       "      <td>0.00</td>\n",
       "      <td>2</td>\n",
       "      <td>0</td>\n",
       "      <td>1</td>\n",
       "      <td>141053.85</td>\n",
       "      <td>0</td>\n",
       "    </tr>\n",
       "    <tr>\n",
       "      <th>8780</th>\n",
       "      <td>820</td>\n",
       "      <td>1</td>\n",
       "      <td>1</td>\n",
       "      <td>39</td>\n",
       "      <td>9</td>\n",
       "      <td>111336.89</td>\n",
       "      <td>1</td>\n",
       "      <td>1</td>\n",
       "      <td>0</td>\n",
       "      <td>16770.31</td>\n",
       "      <td>1</td>\n",
       "    </tr>\n",
       "    <tr>\n",
       "      <th>5378</th>\n",
       "      <td>606</td>\n",
       "      <td>1</td>\n",
       "      <td>1</td>\n",
       "      <td>27</td>\n",
       "      <td>2</td>\n",
       "      <td>130274.26</td>\n",
       "      <td>2</td>\n",
       "      <td>1</td>\n",
       "      <td>0</td>\n",
       "      <td>147533.09</td>\n",
       "      <td>0</td>\n",
       "    </tr>\n",
       "    <tr>\n",
       "      <th>4026</th>\n",
       "      <td>762</td>\n",
       "      <td>1</td>\n",
       "      <td>1</td>\n",
       "      <td>56</td>\n",
       "      <td>10</td>\n",
       "      <td>100260.88</td>\n",
       "      <td>3</td>\n",
       "      <td>1</td>\n",
       "      <td>1</td>\n",
       "      <td>77142.42</td>\n",
       "      <td>1</td>\n",
       "    </tr>\n",
       "    <tr>\n",
       "      <th>4670</th>\n",
       "      <td>637</td>\n",
       "      <td>1</td>\n",
       "      <td>1</td>\n",
       "      <td>41</td>\n",
       "      <td>2</td>\n",
       "      <td>138014.40</td>\n",
       "      <td>2</td>\n",
       "      <td>1</td>\n",
       "      <td>0</td>\n",
       "      <td>140298.24</td>\n",
       "      <td>0</td>\n",
       "    </tr>\n",
       "  </tbody>\n",
       "</table>\n",
       "</div>"
      ],
      "text/plain": [
       "      CreditScore  Geography  Gender  Age  Tenure    Balance  NumOfProducts  \\\n",
       "2109          596          2       1   41       5       0.00              2   \n",
       "8780          820          1       1   39       9  111336.89              1   \n",
       "5378          606          1       1   27       2  130274.26              2   \n",
       "4026          762          1       1   56      10  100260.88              3   \n",
       "4670          637          1       1   41       2  138014.40              2   \n",
       "\n",
       "      HasCrCard  IsActiveMember  EstimatedSalary  Exited  \n",
       "2109          0               1        141053.85       0  \n",
       "8780          1               0         16770.31       1  \n",
       "5378          1               0        147533.09       0  \n",
       "4026          1               1         77142.42       1  \n",
       "4670          1               0        140298.24       0  "
      ]
     },
     "execution_count": 11,
     "metadata": {},
     "output_type": "execute_result"
    }
   ],
   "source": [
    "# apply OneHotEncoder on categorical feature columns\n",
    "X_ohe = ohe.fit_transform(dataset) # It returns an numpy array\n",
    "dataset.sample(5)"
   ]
  },
  {
   "cell_type": "code",
   "execution_count": 12,
   "metadata": {},
   "outputs": [
    {
     "data": {
      "text/html": [
       "<div>\n",
       "<style scoped>\n",
       "    .dataframe tbody tr th:only-of-type {\n",
       "        vertical-align: middle;\n",
       "    }\n",
       "\n",
       "    .dataframe tbody tr th {\n",
       "        vertical-align: top;\n",
       "    }\n",
       "\n",
       "    .dataframe thead th {\n",
       "        text-align: right;\n",
       "    }\n",
       "</style>\n",
       "<table border=\"1\" class=\"dataframe\">\n",
       "  <thead>\n",
       "    <tr style=\"text-align: right;\">\n",
       "      <th></th>\n",
       "      <th>CreditScore</th>\n",
       "      <th>Geography</th>\n",
       "      <th>Gender</th>\n",
       "      <th>Age</th>\n",
       "      <th>Tenure</th>\n",
       "      <th>Balance</th>\n",
       "      <th>NumOfProducts</th>\n",
       "      <th>HasCrCard</th>\n",
       "      <th>IsActiveMember</th>\n",
       "      <th>EstimatedSalary</th>\n",
       "      <th>Exited</th>\n",
       "    </tr>\n",
       "  </thead>\n",
       "  <tbody>\n",
       "    <tr>\n",
       "      <th>CreditScore</th>\n",
       "      <td>1.000000</td>\n",
       "      <td>0.007888</td>\n",
       "      <td>-0.002857</td>\n",
       "      <td>-0.003965</td>\n",
       "      <td>0.000842</td>\n",
       "      <td>0.006268</td>\n",
       "      <td>0.012238</td>\n",
       "      <td>-0.005458</td>\n",
       "      <td>0.025651</td>\n",
       "      <td>-0.001384</td>\n",
       "      <td>-0.027094</td>\n",
       "    </tr>\n",
       "    <tr>\n",
       "      <th>Geography</th>\n",
       "      <td>0.007888</td>\n",
       "      <td>1.000000</td>\n",
       "      <td>0.004719</td>\n",
       "      <td>0.022812</td>\n",
       "      <td>0.003739</td>\n",
       "      <td>0.069408</td>\n",
       "      <td>0.003972</td>\n",
       "      <td>-0.008523</td>\n",
       "      <td>0.006724</td>\n",
       "      <td>-0.001369</td>\n",
       "      <td>0.035943</td>\n",
       "    </tr>\n",
       "    <tr>\n",
       "      <th>Gender</th>\n",
       "      <td>-0.002857</td>\n",
       "      <td>0.004719</td>\n",
       "      <td>1.000000</td>\n",
       "      <td>-0.027544</td>\n",
       "      <td>0.014733</td>\n",
       "      <td>0.012087</td>\n",
       "      <td>-0.021859</td>\n",
       "      <td>0.005766</td>\n",
       "      <td>0.022544</td>\n",
       "      <td>-0.008112</td>\n",
       "      <td>-0.106512</td>\n",
       "    </tr>\n",
       "    <tr>\n",
       "      <th>Age</th>\n",
       "      <td>-0.003965</td>\n",
       "      <td>0.022812</td>\n",
       "      <td>-0.027544</td>\n",
       "      <td>1.000000</td>\n",
       "      <td>-0.009997</td>\n",
       "      <td>0.028308</td>\n",
       "      <td>-0.030680</td>\n",
       "      <td>-0.011721</td>\n",
       "      <td>0.085472</td>\n",
       "      <td>-0.007201</td>\n",
       "      <td>0.285323</td>\n",
       "    </tr>\n",
       "    <tr>\n",
       "      <th>Tenure</th>\n",
       "      <td>0.000842</td>\n",
       "      <td>0.003739</td>\n",
       "      <td>0.014733</td>\n",
       "      <td>-0.009997</td>\n",
       "      <td>1.000000</td>\n",
       "      <td>-0.012254</td>\n",
       "      <td>0.013444</td>\n",
       "      <td>0.022583</td>\n",
       "      <td>-0.028362</td>\n",
       "      <td>0.007784</td>\n",
       "      <td>-0.014001</td>\n",
       "    </tr>\n",
       "    <tr>\n",
       "      <th>Balance</th>\n",
       "      <td>0.006268</td>\n",
       "      <td>0.069408</td>\n",
       "      <td>0.012087</td>\n",
       "      <td>0.028308</td>\n",
       "      <td>-0.012254</td>\n",
       "      <td>1.000000</td>\n",
       "      <td>-0.304180</td>\n",
       "      <td>-0.014858</td>\n",
       "      <td>-0.010084</td>\n",
       "      <td>0.012797</td>\n",
       "      <td>0.118533</td>\n",
       "    </tr>\n",
       "    <tr>\n",
       "      <th>NumOfProducts</th>\n",
       "      <td>0.012238</td>\n",
       "      <td>0.003972</td>\n",
       "      <td>-0.021859</td>\n",
       "      <td>-0.030680</td>\n",
       "      <td>0.013444</td>\n",
       "      <td>-0.304180</td>\n",
       "      <td>1.000000</td>\n",
       "      <td>0.003183</td>\n",
       "      <td>0.009612</td>\n",
       "      <td>0.014204</td>\n",
       "      <td>-0.047820</td>\n",
       "    </tr>\n",
       "    <tr>\n",
       "      <th>HasCrCard</th>\n",
       "      <td>-0.005458</td>\n",
       "      <td>-0.008523</td>\n",
       "      <td>0.005766</td>\n",
       "      <td>-0.011721</td>\n",
       "      <td>0.022583</td>\n",
       "      <td>-0.014858</td>\n",
       "      <td>0.003183</td>\n",
       "      <td>1.000000</td>\n",
       "      <td>-0.011866</td>\n",
       "      <td>-0.009933</td>\n",
       "      <td>-0.007138</td>\n",
       "    </tr>\n",
       "    <tr>\n",
       "      <th>IsActiveMember</th>\n",
       "      <td>0.025651</td>\n",
       "      <td>0.006724</td>\n",
       "      <td>0.022544</td>\n",
       "      <td>0.085472</td>\n",
       "      <td>-0.028362</td>\n",
       "      <td>-0.010084</td>\n",
       "      <td>0.009612</td>\n",
       "      <td>-0.011866</td>\n",
       "      <td>1.000000</td>\n",
       "      <td>-0.011421</td>\n",
       "      <td>-0.156128</td>\n",
       "    </tr>\n",
       "    <tr>\n",
       "      <th>EstimatedSalary</th>\n",
       "      <td>-0.001384</td>\n",
       "      <td>-0.001369</td>\n",
       "      <td>-0.008112</td>\n",
       "      <td>-0.007201</td>\n",
       "      <td>0.007784</td>\n",
       "      <td>0.012797</td>\n",
       "      <td>0.014204</td>\n",
       "      <td>-0.009933</td>\n",
       "      <td>-0.011421</td>\n",
       "      <td>1.000000</td>\n",
       "      <td>0.012097</td>\n",
       "    </tr>\n",
       "    <tr>\n",
       "      <th>Exited</th>\n",
       "      <td>-0.027094</td>\n",
       "      <td>0.035943</td>\n",
       "      <td>-0.106512</td>\n",
       "      <td>0.285323</td>\n",
       "      <td>-0.014001</td>\n",
       "      <td>0.118533</td>\n",
       "      <td>-0.047820</td>\n",
       "      <td>-0.007138</td>\n",
       "      <td>-0.156128</td>\n",
       "      <td>0.012097</td>\n",
       "      <td>1.000000</td>\n",
       "    </tr>\n",
       "  </tbody>\n",
       "</table>\n",
       "</div>"
      ],
      "text/plain": [
       "                 CreditScore  Geography    Gender       Age    Tenure  \\\n",
       "CreditScore         1.000000   0.007888 -0.002857 -0.003965  0.000842   \n",
       "Geography           0.007888   1.000000  0.004719  0.022812  0.003739   \n",
       "Gender             -0.002857   0.004719  1.000000 -0.027544  0.014733   \n",
       "Age                -0.003965   0.022812 -0.027544  1.000000 -0.009997   \n",
       "Tenure              0.000842   0.003739  0.014733 -0.009997  1.000000   \n",
       "Balance             0.006268   0.069408  0.012087  0.028308 -0.012254   \n",
       "NumOfProducts       0.012238   0.003972 -0.021859 -0.030680  0.013444   \n",
       "HasCrCard          -0.005458  -0.008523  0.005766 -0.011721  0.022583   \n",
       "IsActiveMember      0.025651   0.006724  0.022544  0.085472 -0.028362   \n",
       "EstimatedSalary    -0.001384  -0.001369 -0.008112 -0.007201  0.007784   \n",
       "Exited             -0.027094   0.035943 -0.106512  0.285323 -0.014001   \n",
       "\n",
       "                  Balance  NumOfProducts  HasCrCard  IsActiveMember  \\\n",
       "CreditScore      0.006268       0.012238  -0.005458        0.025651   \n",
       "Geography        0.069408       0.003972  -0.008523        0.006724   \n",
       "Gender           0.012087      -0.021859   0.005766        0.022544   \n",
       "Age              0.028308      -0.030680  -0.011721        0.085472   \n",
       "Tenure          -0.012254       0.013444   0.022583       -0.028362   \n",
       "Balance          1.000000      -0.304180  -0.014858       -0.010084   \n",
       "NumOfProducts   -0.304180       1.000000   0.003183        0.009612   \n",
       "HasCrCard       -0.014858       0.003183   1.000000       -0.011866   \n",
       "IsActiveMember  -0.010084       0.009612  -0.011866        1.000000   \n",
       "EstimatedSalary  0.012797       0.014204  -0.009933       -0.011421   \n",
       "Exited           0.118533      -0.047820  -0.007138       -0.156128   \n",
       "\n",
       "                 EstimatedSalary    Exited  \n",
       "CreditScore            -0.001384 -0.027094  \n",
       "Geography              -0.001369  0.035943  \n",
       "Gender                 -0.008112 -0.106512  \n",
       "Age                    -0.007201  0.285323  \n",
       "Tenure                  0.007784 -0.014001  \n",
       "Balance                 0.012797  0.118533  \n",
       "NumOfProducts           0.014204 -0.047820  \n",
       "HasCrCard              -0.009933 -0.007138  \n",
       "IsActiveMember         -0.011421 -0.156128  \n",
       "EstimatedSalary         1.000000  0.012097  \n",
       "Exited                  0.012097  1.000000  "
      ]
     },
     "execution_count": 12,
     "metadata": {},
     "output_type": "execute_result"
    }
   ],
   "source": [
    "dataset.corr()"
   ]
  },
  {
   "cell_type": "code",
   "execution_count": 13,
   "metadata": {},
   "outputs": [
    {
     "data": {
      "text/plain": [
       "<matplotlib.axes._subplots.AxesSubplot at 0x2746c06abe0>"
      ]
     },
     "execution_count": 13,
     "metadata": {},
     "output_type": "execute_result"
    },
    {
     "data": {
      "image/png": "[encoded data removed]",
      "text/plain": [
       "<Figure size 720x576 with 2 Axes>"
      ]
     },
     "metadata": {
      "needs_background": "light"
     },
     "output_type": "display_data"
    }
   ],
   "source": [
    "import matplotlib.pyplot as plt\n",
    "import seaborn as sns\n",
    "f, ax = plt.subplots(figsize=(10, 8))\n",
    "corr = dataset.corr()\n",
    "sns.heatmap(corr, cmap=sns.diverging_palette(220, 10, as_cmap=True),annot=True,\n",
    "            square=True, ax=ax)"
   ]
  },
  {
   "cell_type": "code",
   "execution_count": 14,
   "metadata": {},
   "outputs": [
    {
     "data": {
      "image/png": "[encoded data removed]",
      "text/plain": [
       "<Figure size 1440x1440 with 12 Axes>"
      ]
     },
     "metadata": {
      "needs_background": "light"
     },
     "output_type": "display_data"
    }
   ],
   "source": [
    "dataset.hist(figsize=(20, 20))\n",
    "plt.tight_layout()# tight_layout() will adjust spacing between subplots to minimize the overlaps. let's make good plots\n",
    "plt.show()"
   ]
  },
  {
   "cell_type": "code",
   "execution_count": 15,
   "metadata": {},
   "outputs": [
    {
     "data": {
      "text/plain": [
       "<matplotlib.axes._subplots.AxesSubplot at 0x2746d5c17b8>"
      ]
     },
     "execution_count": 15,
     "metadata": {},
     "output_type": "execute_result"
    },
    {
     "data": {
      "image/png": "[encoded data removed]",
      "text/plain": [
       "<Figure size 432x288 with 1 Axes>"
      ]
     },
     "metadata": {
      "needs_background": "light"
     },
     "output_type": "display_data"
    }
   ],
   "source": [
    "#checking outliers\n",
    "sns.boxplot(data=dataset, orient=\"h\", palette=\"Set2\")"
   ]
  },
  {
   "cell_type": "code",
   "execution_count": 16,
   "metadata": {},
   "outputs": [
    {
     "name": "stdout",
     "output_type": "stream",
     "text": [
      "(10000, 9)\n"
     ]
    },
    {
     "data": {
      "text/plain": [
       "(None, (10000, 1))"
      ]
     },
     "execution_count": 16,
     "metadata": {},
     "output_type": "execute_result"
    }
   ],
   "source": [
    "# seperating target variable\n",
    "X=dataset.iloc[:,:9].values\n",
    "y=dataset['Exited'].values.reshape(-1,1)\n",
    "print(X.shape),(y.shape)"
   ]
  },
  {
   "cell_type": "code",
   "execution_count": 17,
   "metadata": {},
   "outputs": [
    {
     "name": "stdout",
     "output_type": "stream",
     "text": [
      "The Shape of X_TRAIN is (7000, 9)\n",
      "The Shape of X_TEST is (3000, 9)\n",
      "The Shape of Y_TRAIN is (7000, 1)\n",
      "The Shape of Y_TEST is (3000, 1)\n"
     ]
    }
   ],
   "source": [
    "# let's split the data into train,test \n",
    "from sklearn.model_selection import train_test_split\n",
    "X_train,X_test,y_train,y_test=train_test_split(X, y, test_size=0.3, random_state=5)\n",
    "print('The Shape of X_TRAIN is',X_train.shape)\n",
    "print('The Shape of X_TEST is',X_test.shape)\n",
    "print('The Shape of Y_TRAIN is',y_train.shape)\n",
    "print('The Shape of Y_TEST is',y_test.shape)"
   ]
  },
  {
   "cell_type": "markdown",
   "metadata": {},
   "source": [
    "# Basic Logistic classifier"
   ]
  },
  {
   "cell_type": "code",
   "execution_count": 18,
   "metadata": {},
   "outputs": [],
   "source": [
    "# finding 'y', coefficient and intercepts in logit\n",
    "import statsmodels.api as sm\n",
    "logit=sm.Logit(y_train, X_train)"
   ]
  },
  {
   "cell_type": "code",
   "execution_count": 19,
   "metadata": {},
   "outputs": [
    {
     "name": "stdout",
     "output_type": "stream",
     "text": [
      "Optimization terminated successfully.\n",
      "         Current function value: 0.447288\n",
      "         Iterations 6\n"
     ]
    }
   ],
   "source": [
    "# getting probability of 'y'\n",
    "result=logit.fit()"
   ]
  },
  {
   "cell_type": "code",
   "execution_count": 20,
   "metadata": {},
   "outputs": [
    {
     "data": {
      "text/html": [
       "<table class=\"simpletable\">\n",
       "<caption>Logit Regression Results</caption>\n",
       "<tr>\n",
       "  <th>Dep. Variable:</th>           <td>y</td>        <th>  No. Observations:  </th>   <td>  7000</td>  \n",
       "</tr>\n",
       "<tr>\n",
       "  <th>Model:</th>                 <td>Logit</td>      <th>  Df Residuals:      </th>   <td>  6991</td>  \n",
       "</tr>\n",
       "<tr>\n",
       "  <th>Method:</th>                 <td>MLE</td>       <th>  Df Model:          </th>   <td>     8</td>  \n",
       "</tr>\n",
       "<tr>\n",
       "  <th>Date:</th>            <td>Mon, 09 Dec 2019</td> <th>  Pseudo R-squ.:     </th>   <td>0.1199</td>  \n",
       "</tr>\n",
       "<tr>\n",
       "  <th>Time:</th>                <td>22:09:40</td>     <th>  Log-Likelihood:    </th>  <td> -3131.0</td> \n",
       "</tr>\n",
       "<tr>\n",
       "  <th>converged:</th>             <td>True</td>       <th>  LL-Null:           </th>  <td> -3557.6</td> \n",
       "</tr>\n",
       "<tr>\n",
       "  <th>Covariance Type:</th>     <td>nonrobust</td>    <th>  LLR p-value:       </th> <td>7.381e-179</td>\n",
       "</tr>\n",
       "</table>\n",
       "<table class=\"simpletable\">\n",
       "<tr>\n",
       "   <td></td>     <th>coef</th>     <th>std err</th>      <th>z</th>      <th>P>|z|</th>  <th>[0.025</th>    <th>0.975]</th>  \n",
       "</tr>\n",
       "<tr>\n",
       "  <th>x1</th> <td>   -0.0035</td> <td>    0.000</td> <td>  -16.072</td> <td> 0.000</td> <td>   -0.004</td> <td>   -0.003</td>\n",
       "</tr>\n",
       "<tr>\n",
       "  <th>x2</th> <td>    0.0688</td> <td>    0.039</td> <td>    1.781</td> <td> 0.075</td> <td>   -0.007</td> <td>    0.145</td>\n",
       "</tr>\n",
       "<tr>\n",
       "  <th>x3</th> <td>   -0.6499</td> <td>    0.063</td> <td>  -10.324</td> <td> 0.000</td> <td>   -0.773</td> <td>   -0.527</td>\n",
       "</tr>\n",
       "<tr>\n",
       "  <th>x4</th> <td>    0.0579</td> <td>    0.003</td> <td>   21.045</td> <td> 0.000</td> <td>    0.053</td> <td>    0.063</td>\n",
       "</tr>\n",
       "<tr>\n",
       "  <th>x5</th> <td>   -0.0466</td> <td>    0.011</td> <td>   -4.321</td> <td> 0.000</td> <td>   -0.068</td> <td>   -0.025</td>\n",
       "</tr>\n",
       "<tr>\n",
       "  <th>x6</th> <td> 3.055e-06</td> <td> 5.24e-07</td> <td>    5.831</td> <td> 0.000</td> <td> 2.03e-06</td> <td> 4.08e-06</td>\n",
       "</tr>\n",
       "<tr>\n",
       "  <th>x7</th> <td>   -0.3630</td> <td>    0.054</td> <td>   -6.780</td> <td> 0.000</td> <td>   -0.468</td> <td>   -0.258</td>\n",
       "</tr>\n",
       "<tr>\n",
       "  <th>x8</th> <td>   -0.1629</td> <td>    0.067</td> <td>   -2.432</td> <td> 0.015</td> <td>   -0.294</td> <td>   -0.032</td>\n",
       "</tr>\n",
       "<tr>\n",
       "  <th>x9</th> <td>   -1.1118</td> <td>    0.067</td> <td>  -16.568</td> <td> 0.000</td> <td>   -1.243</td> <td>   -0.980</td>\n",
       "</tr>\n",
       "</table>"
      ],
      "text/plain": [
       "<class 'statsmodels.iolib.summary.Summary'>\n",
       "\"\"\"\n",
       "                           Logit Regression Results                           \n",
       "==============================================================================\n",
       "Dep. Variable:                      y   No. Observations:                 7000\n",
       "Model:                          Logit   Df Residuals:                     6991\n",
       "Method:                           MLE   Df Model:                            8\n",
       "Date:                Mon, 09 Dec 2019   Pseudo R-squ.:                  0.1199\n",
       "Time:                        22:09:40   Log-Likelihood:                -3131.0\n",
       "converged:                       True   LL-Null:                       -3557.6\n",
       "Covariance Type:            nonrobust   LLR p-value:                7.381e-179\n",
       "==============================================================================\n",
       "                 coef    std err          z      P>|z|      [0.025      0.975]\n",
       "------------------------------------------------------------------------------\n",
       "x1            -0.0035      0.000    -16.072      0.000      -0.004      -0.003\n",
       "x2             0.0688      0.039      1.781      0.075      -0.007       0.145\n",
       "x3            -0.6499      0.063    -10.324      0.000      -0.773      -0.527\n",
       "x4             0.0579      0.003     21.045      0.000       0.053       0.063\n",
       "x5            -0.0466      0.011     -4.321      0.000      -0.068      -0.025\n",
       "x6          3.055e-06   5.24e-07      5.831      0.000    2.03e-06    4.08e-06\n",
       "x7            -0.3630      0.054     -6.780      0.000      -0.468      -0.258\n",
       "x8            -0.1629      0.067     -2.432      0.015      -0.294      -0.032\n",
       "x9            -1.1118      0.067    -16.568      0.000      -1.243      -0.980\n",
       "==============================================================================\n",
       "\"\"\""
      ]
     },
     "execution_count": 20,
     "metadata": {},
     "output_type": "execute_result"
    }
   ],
   "source": [
    "# summary of losgistic regreesion model\n",
    "result.summary()"
   ]
  },
  {
   "cell_type": "code",
   "execution_count": 21,
   "metadata": {},
   "outputs": [],
   "source": [
    "y_pred=result.predict(X_test)"
   ]
  },
  {
   "cell_type": "code",
   "execution_count": 22,
   "metadata": {},
   "outputs": [
    {
     "data": {
      "text/plain": [
       "array([[5402.,  158.],\n",
       "       [1181.,  259.]])"
      ]
     },
     "execution_count": 22,
     "metadata": {},
     "output_type": "execute_result"
    }
   ],
   "source": [
    "# confusion matrix\n",
    "result.pred_table()"
   ]
  },
  {
   "cell_type": "code",
   "execution_count": 23,
   "metadata": {},
   "outputs": [
    {
     "data": {
      "text/plain": [
       "0.8126666666666666"
      ]
     },
     "execution_count": 23,
     "metadata": {},
     "output_type": "execute_result"
    }
   ],
   "source": [
    "from sklearn.metrics import accuracy_score\n",
    "accuracy_score([1 if p >0.5 else 0 for p in y_pred], y_test)"
   ]
  },
  {
   "cell_type": "markdown",
   "metadata": {},
   "source": [
    "# Machine Learning algorithm building"
   ]
  },
  {
   "cell_type": "code",
   "execution_count": 24,
   "metadata": {},
   "outputs": [],
   "source": [
    "# to build the models\n",
    "from sklearn.linear_model import LogisticRegression\n",
    "from sklearn.ensemble import AdaBoostClassifier\n",
    "from sklearn.ensemble import RandomForestClassifier\n",
    "import xgboost as xgb"
   ]
  },
  {
   "cell_type": "markdown",
   "metadata": {},
   "source": [
    "# Logistic Regression"
   ]
  },
  {
   "cell_type": "code",
   "execution_count": 25,
   "metadata": {},
   "outputs": [
    {
     "name": "stdout",
     "output_type": "stream",
     "text": [
      "Logit train roc-auc: 0.6676485061950439\n",
      "Logit test roc-auc: 0.6818940032385536\n"
     ]
    }
   ],
   "source": [
    "from sklearn.linear_model import LogisticRegression\n",
    "from sklearn.metrics import roc_auc_score\n",
    "logit_model = LogisticRegression()\n",
    "logit_model.fit(X_train, y_train)\n",
    "\n",
    "pred = logit_model.predict_proba(X_train)\n",
    "print('Logit train roc-auc: {}'.format(roc_auc_score(y_train, pred[:,1])))\n",
    "pred = logit_model.predict_proba(X_test)\n",
    "print('Logit test roc-auc: {}'.format(roc_auc_score(y_test, pred[:,1])))"
   ]
  },
  {
   "cell_type": "markdown",
   "metadata": {},
   "source": [
    "# Random Forest"
   ]
  },
  {
   "cell_type": "code",
   "execution_count": 26,
   "metadata": {},
   "outputs": [
    {
     "name": "stdout",
     "output_type": "stream",
     "text": [
      "RF train roc-auc: 0.999363384292566\n",
      "RF test roc-auc: 0.8052950283390876\n"
     ]
    }
   ],
   "source": [
    "rf_model = RandomForestClassifier()\n",
    "rf_model.fit(X_train, y_train)\n",
    "\n",
    "pred = rf_model.predict_proba(X_train)\n",
    "print('RF train roc-auc: {}'.format(roc_auc_score(y_train, pred[:,1])))\n",
    "pred = rf_model.predict_proba(X_test)\n",
    "print('RF test roc-auc: {}'.format(roc_auc_score(y_test, pred[:,1])))"
   ]
  },
  {
   "cell_type": "markdown",
   "metadata": {},
   "source": [
    "# AdaBoost"
   ]
  },
  {
   "cell_type": "code",
   "execution_count": 27,
   "metadata": {},
   "outputs": [
    {
     "name": "stdout",
     "output_type": "stream",
     "text": [
      "Adaboost train roc-auc: 0.8633061675659472\n",
      "Adaboost test roc-auc: 0.8375955237416101\n"
     ]
    }
   ],
   "source": [
    "ada_model = AdaBoostClassifier()\n",
    "ada_model.fit(X_train, y_train)\n",
    "\n",
    "pred = ada_model.predict_proba(X_train)\n",
    "print('Adaboost train roc-auc: {}'.format(roc_auc_score(y_train, pred[:,1])))\n",
    "pred = ada_model.predict_proba(X_test)\n",
    "print('Adaboost test roc-auc: {}'.format(roc_auc_score(y_test, pred[:,1])))"
   ]
  },
  {
   "cell_type": "markdown",
   "metadata": {},
   "source": [
    "# XGBoost"
   ]
  },
  {
   "cell_type": "code",
   "execution_count": 28,
   "metadata": {},
   "outputs": [
    {
     "name": "stdout",
     "output_type": "stream",
     "text": [
      "xgb train roc-auc: 0.8861781824540367\n",
      "xgb test roc-auc: 0.8587977339882935\n"
     ]
    }
   ],
   "source": [
    "xgb_model = xgb.XGBClassifier()\n",
    "\n",
    "eval_set = [(X_test, y_test)]\n",
    "xgb_model.fit(X_train, y_train, eval_metric=\"auc\", eval_set=eval_set, verbose=False)\n",
    "\n",
    "pred = xgb_model.predict_proba(X_train)\n",
    "print('xgb train roc-auc: {}'.format(roc_auc_score(y_train, pred[:,1])))\n",
    "pred = xgb_model.predict_proba(X_test)\n",
    "print('xgb test roc-auc: {}'.format(roc_auc_score(y_test, pred[:,1])))"
   ]
  },
  {
   "cell_type": "markdown",
   "metadata": {},
   "source": [
    "# Select threshold for maximum accuracy\n"
   ]
  },
  {
   "cell_type": "code",
   "execution_count": 29,
   "metadata": {},
   "outputs": [
    {
     "name": "stdout",
     "output_type": "stream",
     "text": [
      "Ensemble test roc-auc: 0.842281876855494\n"
     ]
    }
   ],
   "source": [
    "pred_ls = []\n",
    "for model in [xgb_model, rf_model, ada_model, logit_model]:\n",
    "    pred_ls.append(pd.Series(model.predict_proba(X_test)[:,1]))\n",
    "\n",
    "final_pred = pd.concat(pred_ls, axis=1).mean(axis=1)\n",
    "print('Ensemble test roc-auc: {}'.format(roc_auc_score(y_test,final_pred)))"
   ]
  },
  {
   "cell_type": "code",
   "execution_count": 30,
   "metadata": {},
   "outputs": [
    {
     "data": {
      "text/plain": [
       "array([1.83068084, 0.83068084, 0.74491872, 0.74463187, 0.70571778,\n",
       "       0.70571673, 0.69230367, 0.69136979, 0.68033613, 0.67889849,\n",
       "       0.67872875, 0.67746704, 0.66161874, 0.66121286, 0.66044834,\n",
       "       0.65932066, 0.64066971, 0.63944826, 0.63936284, 0.63891807,\n",
       "       0.63825511, 0.63785583, 0.63540977, 0.63458262, 0.62838075,\n",
       "       0.62790105, 0.62759147, 0.62643587, 0.62444781, 0.62408478,\n",
       "       0.62321709, 0.62191565, 0.62146515, 0.62058936, 0.61943952,\n",
       "       0.61901363, 0.61613755, 0.61544171, 0.60755896, 0.60737388,\n",
       "       0.6046704 , 0.60384244, 0.60308072, 0.60272   , 0.60259129,\n",
       "       0.60193497, 0.6019129 , 0.6017117 , 0.59637713, 0.59455187,\n",
       "       0.59364788, 0.59292299, 0.5927865 , 0.59271275, 0.59125602,\n",
       "       0.59095922, 0.58879378, 0.58751587, 0.58732069, 0.58154166,\n",
       "       0.57259865, 0.56987332, 0.56931863, 0.56856121, 0.56742677,\n",
       "       0.56694681, 0.56370674, 0.56322562, 0.55690424, 0.55613044,\n",
       "       0.54868524, 0.54850504, 0.54445884, 0.54417202, 0.53871189,\n",
       "       0.53732344, 0.53646948, 0.53555919, 0.53538428, 0.53528132,\n",
       "       0.53466708, 0.53177407, 0.52648681, 0.52612295, 0.52384908,\n",
       "       0.52231512, 0.52140597, 0.52134082, 0.52082423, 0.51964924,\n",
       "       0.51048343, 0.50739057, 0.50728408, 0.50691673, 0.50399357,\n",
       "       0.50202407, 0.5016581 , 0.49981791, 0.49767928, 0.49746941,\n",
       "       0.49612879, 0.49526209, 0.4919414 , 0.49177195, 0.49081311,\n",
       "       0.48842491, 0.48772282, 0.48588045, 0.4836876 , 0.48363723,\n",
       "       0.48345896, 0.48340143, 0.47965031, 0.47872575, 0.47831989,\n",
       "       0.47746017, 0.47194048, 0.47034123, 0.47025571, 0.46976481,\n",
       "       0.46965682, 0.46909898, 0.46841708, 0.46826558, 0.46302129,\n",
       "       0.46263352, 0.46255191, 0.46221337, 0.46192934, 0.46094377,\n",
       "       0.46061188, 0.45809516, 0.45795539, 0.45550505, 0.4547129 ,\n",
       "       0.45224842, 0.45163807, 0.45107535, 0.45086107, 0.44893623,\n",
       "       0.44812112, 0.44806528, 0.44774012, 0.44756171, 0.44754671,\n",
       "       0.44520657, 0.44510359, 0.4448337 , 0.44351565, 0.44226682,\n",
       "       0.44137475, 0.43966962, 0.43763167, 0.43439347, 0.433503  ,\n",
       "       0.4324314 , 0.43144357, 0.43128957, 0.43065873, 0.4288294 ,\n",
       "       0.42856218, 0.42305634, 0.42267274, 0.42092956, 0.42000212,\n",
       "       0.41977738, 0.41969775, 0.41864235, 0.41766508, 0.4172844 ,\n",
       "       0.4154884 , 0.41495588, 0.41420733, 0.41371801, 0.41361423,\n",
       "       0.41224019, 0.41188542, 0.41153672, 0.41133342, 0.41101425,\n",
       "       0.40871388, 0.40799378, 0.40638375, 0.40612991, 0.40571995,\n",
       "       0.40420318, 0.40418223, 0.40336116, 0.40253554, 0.40216931,\n",
       "       0.40203411, 0.40162166, 0.40150531, 0.40140572, 0.40090811,\n",
       "       0.40039716, 0.40035317, 0.39803325, 0.39776329, 0.39710921,\n",
       "       0.39681913, 0.39608641, 0.39583426, 0.39574865, 0.39528433,\n",
       "       0.39516205, 0.39510302, 0.3936328 , 0.39145725, 0.39092231,\n",
       "       0.39080957, 0.38916288, 0.38839763, 0.38817111, 0.38737343,\n",
       "       0.38737174, 0.38723489, 0.38676137, 0.38626107, 0.38590977,\n",
       "       0.38575264, 0.38397198, 0.38360242, 0.38266549, 0.38248067,\n",
       "       0.3798567 , 0.37965831, 0.37574307, 0.37509965, 0.37457418,\n",
       "       0.37355746, 0.37279503, 0.37244987, 0.37208425, 0.37183511,\n",
       "       0.36926401, 0.36907575, 0.36744388, 0.36710113, 0.36706422,\n",
       "       0.36669002, 0.36368431, 0.36333507, 0.36171976, 0.36143032,\n",
       "       0.35955138, 0.35928534, 0.35881393, 0.35874252, 0.35800791,\n",
       "       0.35771985, 0.35763134, 0.3574739 , 0.35736137, 0.35705317,\n",
       "       0.35678414, 0.35624271, 0.35487113, 0.35414017, 0.35344792,\n",
       "       0.35127909, 0.35117847, 0.3509143 , 0.35046372, 0.34972813,\n",
       "       0.34903424, 0.34881551, 0.347935  , 0.34626811, 0.34542324,\n",
       "       0.34540682, 0.34478966, 0.34426397, 0.34309923, 0.34268366,\n",
       "       0.34259427, 0.3425933 , 0.34130964, 0.34106492, 0.34105593,\n",
       "       0.34084752, 0.34057575, 0.34031599, 0.3397835 , 0.33965032,\n",
       "       0.33886581, 0.33859964, 0.33735148, 0.33686145, 0.33683644,\n",
       "       0.33665072, 0.3362625 , 0.33619744, 0.3340755 , 0.33400028,\n",
       "       0.33370967, 0.33344381, 0.3322947 , 0.33221777, 0.33177524,\n",
       "       0.3316518 , 0.33160279, 0.33118848, 0.33045815, 0.33042856,\n",
       "       0.32897492, 0.32826588, 0.32642506, 0.32627901, 0.32484593,\n",
       "       0.32475862, 0.32471727, 0.32467451, 0.32433471, 0.32399828,\n",
       "       0.32281455, 0.32272471, 0.32255724, 0.32245915, 0.32164266,\n",
       "       0.32144132, 0.32093804, 0.320577  , 0.31983207, 0.31975029,\n",
       "       0.31848366, 0.31845202, 0.31816216, 0.31809795, 0.31758225,\n",
       "       0.31749384, 0.31706443, 0.31704664, 0.31625387, 0.31550972,\n",
       "       0.31542406, 0.31526604, 0.31522598, 0.31519009, 0.3146344 ,\n",
       "       0.31440486, 0.31385738, 0.31375851, 0.31118453, 0.31106243,\n",
       "       0.30969118, 0.30947672, 0.30938429, 0.30925301, 0.30916291,\n",
       "       0.30865887, 0.30670889, 0.30668586, 0.30587549, 0.30550047,\n",
       "       0.30488552, 0.30484102, 0.30423289, 0.30418184, 0.30402314,\n",
       "       0.30394268, 0.30321002, 0.30288286, 0.30129549, 0.30128163,\n",
       "       0.30117894, 0.30113049, 0.30092749, 0.30083732, 0.30051384,\n",
       "       0.30048424, 0.29885316, 0.2986281 , 0.29813905, 0.29813083,\n",
       "       0.29775984, 0.29723511, 0.29590815, 0.29573562, 0.29481155,\n",
       "       0.29477044, 0.29437056, 0.29433284, 0.29402101, 0.29398907,\n",
       "       0.29304927, 0.29304527, 0.29213094, 0.29202218, 0.29185957,\n",
       "       0.29156774, 0.29139847, 0.29108279, 0.29066985, 0.29034331,\n",
       "       0.28879876, 0.28776719, 0.28749244, 0.28748037, 0.2851381 ,\n",
       "       0.28499528, 0.28182688, 0.28179648, 0.28126555, 0.28124252,\n",
       "       0.28097077, 0.28094293, 0.2804338 , 0.28040717, 0.27951708,\n",
       "       0.27946406, 0.2790585 , 0.27844865, 0.27791291, 0.27786148,\n",
       "       0.27769864, 0.27750128, 0.27685352, 0.2766556 , 0.27553772,\n",
       "       0.27545555, 0.27541683, 0.27536186, 0.27493178, 0.27462471,\n",
       "       0.27439964, 0.27428697, 0.27356063, 0.27309587, 0.27102711,\n",
       "       0.27100526, 0.27046686, 0.27033392, 0.26947966, 0.26933627,\n",
       "       0.26866061, 0.26862332, 0.26807209, 0.26780615, 0.2673193 ,\n",
       "       0.26727014, 0.26524118, 0.26518909, 0.26473503, 0.26457928,\n",
       "       0.26400552, 0.26371239, 0.26331273, 0.26329695, 0.26286074,\n",
       "       0.26284075, 0.26191771, 0.26152712, 0.26130319, 0.26121411,\n",
       "       0.25980677, 0.25980214, 0.25978243, 0.2597697 , 0.25932714,\n",
       "       0.25918879, 0.25873483, 0.25826535, 0.2577878 , 0.25725252,\n",
       "       0.25706071, 0.2570535 , 0.25590613, 0.25569208, 0.25510477,\n",
       "       0.25508503, 0.25230589, 0.25228161, 0.2513595 , 0.25134521,\n",
       "       0.25134   , 0.25113396, 0.25092245, 0.25088837, 0.24924676,\n",
       "       0.24920272, 0.24883738, 0.24880774, 0.24871987, 0.24827315,\n",
       "       0.2481215 , 0.24810119, 0.24748744, 0.24744244, 0.24736039,\n",
       "       0.24726278, 0.24695576, 0.24661   , 0.24600051, 0.24588355,\n",
       "       0.24561593, 0.24550778, 0.24467973, 0.24465632, 0.24364316,\n",
       "       0.24342043, 0.24282693, 0.24278488, 0.24230549, 0.24205789,\n",
       "       0.24203917, 0.24203655, 0.24172374, 0.24151982, 0.24062147,\n",
       "       0.24055041, 0.24021218, 0.24017055, 0.24013341, 0.24007067,\n",
       "       0.23944631, 0.23942823, 0.23890631, 0.23876785, 0.23820785,\n",
       "       0.23813318, 0.2373703 , 0.23733061, 0.23427238, 0.23419339,\n",
       "       0.23171126, 0.2316354 , 0.23147611, 0.23132016, 0.23122631,\n",
       "       0.23100068, 0.22938065, 0.22937987, 0.22834353, 0.22824905,\n",
       "       0.2269911 , 0.22689785, 0.22612588, 0.22594701, 0.22592629,\n",
       "       0.22558163, 0.2251827 , 0.22517396, 0.22286104, 0.22280918,\n",
       "       0.221824  , 0.22181009, 0.22046626, 0.22034181, 0.21942486,\n",
       "       0.21936609, 0.21875123, 0.21865594, 0.2143364 , 0.21431422,\n",
       "       0.21428858, 0.21423728, 0.21420641, 0.21416595, 0.21356068,\n",
       "       0.21351027, 0.2133727 , 0.21333077, 0.21126334, 0.21116352,\n",
       "       0.21095102, 0.21066793, 0.20972183, 0.20964842, 0.2081666 ,\n",
       "       0.20814539, 0.2078454 , 0.20779839, 0.20753241, 0.20747571,\n",
       "       0.20666742, 0.2066645 , 0.20569303, 0.20560122, 0.20547094,\n",
       "       0.20546852, 0.2042748 , 0.20423104, 0.20399313, 0.20397929,\n",
       "       0.20395014, 0.20394156, 0.20346348, 0.20342747, 0.20075479,\n",
       "       0.20071838, 0.19977941, 0.19977017, 0.19962662, 0.19949105,\n",
       "       0.19932606, 0.19931302, 0.19744738, 0.19722094, 0.19542413,\n",
       "       0.19542119, 0.19380825, 0.19379544, 0.19198923, 0.19197092,\n",
       "       0.19110454, 0.19102906, 0.18605642, 0.18602842, 0.18526141,\n",
       "       0.18522842, 0.18510157, 0.18506045, 0.18435406, 0.18430232,\n",
       "       0.18399647, 0.18396259, 0.18208149, 0.18206808, 0.17991815,\n",
       "       0.17989075, 0.17818672, 0.17817093, 0.17768653, 0.17765286,\n",
       "       0.17673163, 0.17659509, 0.1758597 , 0.17575525, 0.17543646,\n",
       "       0.17541646, 0.17374298, 0.17369225, 0.17323584, 0.17322637,\n",
       "       0.17173809, 0.17169426, 0.1700771 , 0.17005407, 0.1691142 ,\n",
       "       0.16893969, 0.16860941, 0.16860403, 0.16857597, 0.16851914,\n",
       "       0.16713138, 0.16712421, 0.16655811, 0.16646676, 0.16638634,\n",
       "       0.16638042, 0.16380227, 0.16377022, 0.16304707, 0.16303853,\n",
       "       0.16294178, 0.16283109, 0.15748734, 0.15746413, 0.14942799,\n",
       "       0.14934228, 0.14891874, 0.14879998, 0.14631608, 0.1463084 ,\n",
       "       0.14544018, 0.14542582, 0.14124688, 0.14116297, 0.13193552])"
      ]
     },
     "execution_count": 30,
     "metadata": {},
     "output_type": "execute_result"
    }
   ],
   "source": [
    "import sklearn.metrics as metrics\n",
    "fpr, tpr, thresholds = metrics.roc_curve(y_test, final_pred)\n",
    "thresholds"
   ]
  },
  {
   "cell_type": "code",
   "execution_count": 31,
   "metadata": {},
   "outputs": [
    {
     "data": {
      "text/html": [
       "<div>\n",
       "<style scoped>\n",
       "    .dataframe tbody tr th:only-of-type {\n",
       "        vertical-align: middle;\n",
       "    }\n",
       "\n",
       "    .dataframe tbody tr th {\n",
       "        vertical-align: top;\n",
       "    }\n",
       "\n",
       "    .dataframe thead th {\n",
       "        text-align: right;\n",
       "    }\n",
       "</style>\n",
       "<table border=\"1\" class=\"dataframe\">\n",
       "  <thead>\n",
       "    <tr style=\"text-align: right;\">\n",
       "      <th></th>\n",
       "      <th>thresholds</th>\n",
       "      <th>accuracy</th>\n",
       "    </tr>\n",
       "  </thead>\n",
       "  <tbody>\n",
       "    <tr>\n",
       "      <th>493</th>\n",
       "      <td>0.246001</td>\n",
       "      <td>0.701667</td>\n",
       "    </tr>\n",
       "    <tr>\n",
       "      <th>307</th>\n",
       "      <td>0.326425</td>\n",
       "      <td>0.815000</td>\n",
       "    </tr>\n",
       "    <tr>\n",
       "      <th>97</th>\n",
       "      <td>0.499818</td>\n",
       "      <td>0.856000</td>\n",
       "    </tr>\n",
       "    <tr>\n",
       "      <th>108</th>\n",
       "      <td>0.483688</td>\n",
       "      <td>0.855000</td>\n",
       "    </tr>\n",
       "    <tr>\n",
       "      <th>643</th>\n",
       "      <td>0.168576</td>\n",
       "      <td>0.352000</td>\n",
       "    </tr>\n",
       "    <tr>\n",
       "      <th>485</th>\n",
       "      <td>0.248121</td>\n",
       "      <td>0.707000</td>\n",
       "    </tr>\n",
       "    <tr>\n",
       "      <th>138</th>\n",
       "      <td>0.450861</td>\n",
       "      <td>0.854000</td>\n",
       "    </tr>\n",
       "    <tr>\n",
       "      <th>666</th>\n",
       "      <td>0.145426</td>\n",
       "      <td>0.228000</td>\n",
       "    </tr>\n",
       "    <tr>\n",
       "      <th>356</th>\n",
       "      <td>0.304841</td>\n",
       "      <td>0.792000</td>\n",
       "    </tr>\n",
       "    <tr>\n",
       "      <th>621</th>\n",
       "      <td>0.178187</td>\n",
       "      <td>0.408000</td>\n",
       "    </tr>\n",
       "    <tr>\n",
       "      <th>429</th>\n",
       "      <td>0.271027</td>\n",
       "      <td>0.745000</td>\n",
       "    </tr>\n",
       "    <tr>\n",
       "      <th>120</th>\n",
       "      <td>0.469657</td>\n",
       "      <td>0.855333</td>\n",
       "    </tr>\n",
       "    <tr>\n",
       "      <th>669</th>\n",
       "      <td>0.131936</td>\n",
       "      <td>0.199333</td>\n",
       "    </tr>\n",
       "    <tr>\n",
       "      <th>542</th>\n",
       "      <td>0.225174</td>\n",
       "      <td>0.629667</td>\n",
       "    </tr>\n",
       "    <tr>\n",
       "      <th>648</th>\n",
       "      <td>0.166467</td>\n",
       "      <td>0.341333</td>\n",
       "    </tr>\n",
       "    <tr>\n",
       "      <th>478</th>\n",
       "      <td>0.250888</td>\n",
       "      <td>0.710667</td>\n",
       "    </tr>\n",
       "    <tr>\n",
       "      <th>267</th>\n",
       "      <td>0.347935</td>\n",
       "      <td>0.827667</td>\n",
       "    </tr>\n",
       "    <tr>\n",
       "      <th>202</th>\n",
       "      <td>0.395834</td>\n",
       "      <td>0.845667</td>\n",
       "    </tr>\n",
       "    <tr>\n",
       "      <th>189</th>\n",
       "      <td>0.402169</td>\n",
       "      <td>0.847667</td>\n",
       "    </tr>\n",
       "    <tr>\n",
       "      <th>479</th>\n",
       "      <td>0.249247</td>\n",
       "      <td>0.708333</td>\n",
       "    </tr>\n",
       "  </tbody>\n",
       "</table>\n",
       "</div>"
      ],
      "text/plain": [
       "     thresholds  accuracy\n",
       "493    0.246001  0.701667\n",
       "307    0.326425  0.815000\n",
       "97     0.499818  0.856000\n",
       "108    0.483688  0.855000\n",
       "643    0.168576  0.352000\n",
       "485    0.248121  0.707000\n",
       "138    0.450861  0.854000\n",
       "666    0.145426  0.228000\n",
       "356    0.304841  0.792000\n",
       "621    0.178187  0.408000\n",
       "429    0.271027  0.745000\n",
       "120    0.469657  0.855333\n",
       "669    0.131936  0.199333\n",
       "542    0.225174  0.629667\n",
       "648    0.166467  0.341333\n",
       "478    0.250888  0.710667\n",
       "267    0.347935  0.827667\n",
       "202    0.395834  0.845667\n",
       "189    0.402169  0.847667\n",
       "479    0.249247  0.708333"
      ]
     },
     "execution_count": 31,
     "metadata": {},
     "output_type": "execute_result"
    }
   ],
   "source": [
    "accuracy_ls = []\n",
    "for thres in thresholds:\n",
    "    y_pred = np.where(final_pred>thres,1,0)\n",
    "    accuracy_ls.append(metrics.accuracy_score(y_test, y_pred, normalize=True))\n",
    "    \n",
    "accuracy_ls = pd.concat([pd.Series(thresholds), pd.Series(accuracy_ls)],\n",
    "                        axis=1)\n",
    "accuracy_ls.columns = ['thresholds', 'accuracy']\n",
    "accuracy_ls.sort_values(by='accuracy', ascending=False, inplace=True)\n",
    "accuracy_ls.sample(20)"
   ]
  },
  {
   "cell_type": "markdown",
   "metadata": {},
   "source": [
    "# Balancing the Imbalance dataset with over/up sampling"
   ]
  },
  {
   "cell_type": "code",
   "execution_count": 32,
   "metadata": {},
   "outputs": [
    {
     "name": "stdout",
     "output_type": "stream",
     "text": [
      "Left Bank: 7963\n",
      "Continue Banking: 2037\n",
      "Proportion: 3.91 : 1\n"
     ]
    },
    {
     "data": {
      "image/png": "[encoded data removed]",
      "text/plain": [
       "<Figure size 432x288 with 1 Axes>"
      ]
     },
     "metadata": {
      "needs_background": "light"
     },
     "output_type": "display_data"
    }
   ],
   "source": [
    "# checking the balance of target variable\n",
    "target_count = dataset.Exited.value_counts()\n",
    "print('Left Bank:', target_count[0])\n",
    "print('Continue Banking:', target_count[1])\n",
    "print('Proportion:', round(target_count[0] / target_count[1], 2), ': 1')\n",
    "target_count.plot(kind='bar', title='Count (target)');"
   ]
  },
  {
   "cell_type": "code",
   "execution_count": 33,
   "metadata": {},
   "outputs": [],
   "source": [
    "## Get the left Bank and Continue Banking dataset \n",
    "Continue_Banking = dataset[dataset['Exited']==1]\n",
    "Left_Bank = dataset[dataset['Exited']==0]"
   ]
  },
  {
   "cell_type": "code",
   "execution_count": 34,
   "metadata": {},
   "outputs": [
    {
     "name": "stdout",
     "output_type": "stream",
     "text": [
      "(7963, 11) (2037, 11)\n"
     ]
    }
   ],
   "source": [
    "print(Left_Bank.shape,Continue_Banking.shape)"
   ]
  },
  {
   "cell_type": "code",
   "execution_count": 35,
   "metadata": {},
   "outputs": [],
   "source": [
    "from imblearn import under_sampling \n",
    "from imblearn import over_sampling\n",
    "from imblearn.combine import SMOTETomek\n",
    "from imblearn.under_sampling import NearMiss"
   ]
  },
  {
   "cell_type": "code",
   "execution_count": 36,
   "metadata": {},
   "outputs": [],
   "source": [
    "# Implementing Oversampling for Handling Imbalanced \n",
    "smk = SMOTETomek(random_state=42)\n",
    "X_new,y_new=smk.fit_sample(X,y)"
   ]
  },
  {
   "cell_type": "code",
   "execution_count": 37,
   "metadata": {},
   "outputs": [
    {
     "data": {
      "text/plain": [
       "((14318, 9), (14318,))"
      ]
     },
     "execution_count": 37,
     "metadata": {},
     "output_type": "execute_result"
    }
   ],
   "source": [
    "X_new.shape,y_new.shape"
   ]
  },
  {
   "cell_type": "code",
   "execution_count": 38,
   "metadata": {},
   "outputs": [
    {
     "name": "stdout",
     "output_type": "stream",
     "text": [
      "Up_sampled dataset shape Counter({1: 7159, 0: 7159})\n"
     ]
    }
   ],
   "source": [
    "from collections import Counter\n",
    "#print('Original dataset shape {}'.format(Counter(y)))\n",
    "print('Up_sampled dataset shape {}'.format(Counter(y_new)))"
   ]
  },
  {
   "cell_type": "code",
   "execution_count": 39,
   "metadata": {},
   "outputs": [],
   "source": [
    "## RandomOverSampler to handle imbalanced data\n",
    "from imblearn.over_sampling import RandomOverSampler"
   ]
  },
  {
   "cell_type": "code",
   "execution_count": 40,
   "metadata": {},
   "outputs": [],
   "source": [
    "ups =  RandomOverSampler(ratio=0.5)"
   ]
  },
  {
   "cell_type": "code",
   "execution_count": 41,
   "metadata": {},
   "outputs": [
    {
     "data": {
      "text/plain": [
       "((11944, 9), (11944,))"
      ]
     },
     "execution_count": 41,
     "metadata": {},
     "output_type": "execute_result"
    }
   ],
   "source": [
    "X_train_new, y_train_new = ups.fit_sample(X, y)\n",
    "X_train_new.shape,y_train_new.shape"
   ]
  },
  {
   "cell_type": "code",
   "execution_count": 42,
   "metadata": {},
   "outputs": [
    {
     "name": "stdout",
     "output_type": "stream",
     "text": [
      "up_sampled dataset shape Counter({0: 7963, 1: 3981})\n"
     ]
    }
   ],
   "source": [
    "#print('Original dataset shape {}'.format(Counter(y)))\n",
    "print('up_sampled dataset shape {}'.format(Counter(y_train_new)))"
   ]
  },
  {
   "cell_type": "code",
   "execution_count": 43,
   "metadata": {},
   "outputs": [
    {
     "name": "stdout",
     "output_type": "stream",
     "text": [
      "The Shape of X_TRAIN is (8360, 9)\n",
      "The Shape of X_TEST is (3584, 9)\n",
      "The Shape of Y_TRAIN is (8360,)\n",
      "The Shape of Y_TEST is (3584,)\n"
     ]
    }
   ],
   "source": [
    "X_train_new,X_test_new,y_train_new,y_test_new=train_test_split(X_train_new, y_train_new, test_size=0.3, random_state=5)\n",
    "print('The Shape of X_TRAIN is',X_train_new.shape)\n",
    "print('The Shape of X_TEST is',X_test_new.shape)\n",
    "print('The Shape of Y_TRAIN is',y_train_new.shape)\n",
    "print('The Shape of Y_TEST is',y_test_new.shape)"
   ]
  },
  {
   "cell_type": "code",
   "execution_count": 44,
   "metadata": {},
   "outputs": [
    {
     "name": "stdout",
     "output_type": "stream",
     "text": [
      "xgb up sample train data roc-auc: 0.8834996914060593\n",
      "xgb up sample test data roc-auc: 0.8638211424920845\n"
     ]
    }
   ],
   "source": [
    "xgb_model_ups = xgb.XGBClassifier()\n",
    "\n",
    "eval_set = [(X_test_new, y_test_new)]\n",
    "xgb_model_ups.fit(X_train_new, y_train_new, eval_metric=\"auc\", eval_set=eval_set, verbose=False)\n",
    "\n",
    "pred_ups = xgb_model_ups.predict_proba(X_train_new)\n",
    "print('xgb up sample train data roc-auc: {}'.format(roc_auc_score(y_train_new, pred_ups[:,1])))\n",
    "pred_ups = xgb_model_ups.predict_proba(X_test_new)\n",
    "print('xgb up sample test data roc-auc: {}'.format(roc_auc_score(y_test_new, pred_ups[:,1])))"
   ]
  },
  {
   "cell_type": "code",
   "execution_count": null,
   "metadata": {},
   "outputs": [],
   "source": []
  }
 ],
 "metadata": {
  "kernelspec": {
   "display_name": "Python 3",
   "language": "python",
   "name": "python3"
  },
  "language_info": {
   "codemirror_mode": {
    "name": "ipython",
    "version": 3
   },
   "file_extension": ".py",
   "mimetype": "text/x-python",
   "name": "python",
   "nbconvert_exporter": "python",
   "pygments_lexer": "ipython3",
   "version": "3.7.3"
  }
 },
 "nbformat": 4,
 "nbformat_minor": 2
}
